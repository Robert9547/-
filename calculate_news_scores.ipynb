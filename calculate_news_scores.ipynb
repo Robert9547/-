{
 "cells": [
  {
   "cell_type": "code",
   "execution_count": 21,
   "metadata": {},
   "outputs": [
    {
     "name": "stderr",
     "output_type": "stream",
     "text": [
      "[nltk_data] Downloading package punkt to\n",
      "[nltk_data]     C:\\Users\\ACER\\AppData\\Roaming\\nltk_data...\n",
      "[nltk_data]   Package punkt is already up-to-date!\n"
     ]
    },
    {
     "name": "stdout",
     "output_type": "stream",
     "text": [
      "inv_list=(RTC_TR0029,2)(RTC_TR0035,1)(RTC_TR0069,3)(RTC_TR0149,-1)(RTC_TR0166,1)(RTC_TR0175,1)(RTC_TR0198,-1)(RTC_TR0342,-1)(RTC_TR0364,-1)(RTC_TR0454,-1)(RTC_TR0554,-1)(RTC_TR0653,-1)(RTC_TR0682,-1)(RTC_TR0736,-1)(RTC_TR0827,-1)(RTC_TR0843,1)(RTC_TR0874,-1)(RTC_TR0898,-1)(RTC_TR0903,1)(RTC_TR0986,1)(RTC_TR0987,3)(RTC_TR1014,-2)(RTC_TR1115,1)(RTC_TR1179,1)(RTC_TR1204,7)(RTC_TR1330,3)(RTC_TR1392,-1)(RTC_TR1498,2)\n"
     ]
    }
   ],
   "source": [
    "import json\n",
    "import nltk\n",
    "from collections import defaultdict\n",
    "nltk.download('punkt')\n",
    "\n",
    "def nltk_word_tokenize(json_file_path):\n",
    "    document_list = []\n",
    "    with open(json_file_path, 'r', encoding='utf-8') as f:\n",
    "        json_data = json.load(f)\n",
    "\n",
    "        for article in json_data:\n",
    "            text = article['text']\n",
    "            tokens = nltk.word_tokenize(text.lower())\n",
    "            #print(tokens)\n",
    "            document_list.append(tokens)\n",
    "    return document_list\n",
    "\n",
    "def calculate_tf(word_list, document):\n",
    "    count = sum([1 for w in document if w in word_list])\n",
    "    return count\n",
    "\n",
    "def calculate_tf_in_json(good_word, bad_word, json_file_path, document_list):\n",
    "    tf_dict = defaultdict(dict)\n",
    "    with open(json_file_path, 'r', encoding='utf-8') as f:\n",
    "        json_data = json.load(f)\n",
    "    scores = []\n",
    "    #計算每篇文章的分數\n",
    "    for i, document in enumerate(document_list):\n",
    "        tf_dict[i][\"docID\"] = json_data[i][\"docID\"]\n",
    "        good_score = calculate_tf(good_word, document)\n",
    "        bad_score = calculate_tf(bad_word, document)\n",
    "        score = good_score - bad_score\n",
    "        tf_dict[i][\"score\"] = score\n",
    "        scores.append(score)\n",
    "\n",
    "    inv_list = \"\"\n",
    "    #將分數不為0的文章加入inverted list\n",
    "    for i, score in enumerate(scores):\n",
    "        doc_name = tf_dict[i][\"docID\"]\n",
    "        if score != 0:\n",
    "            inv_list += f\"({doc_name},{score})\"\n",
    "    print(f\"inv_list={inv_list}\")\n",
    "    #return inv_list\n",
    "\n",
    "json_file_path = 'C:/Users/ACER/Desktop/ReutersCorn-train.json'\n",
    "document_list = nltk_word_tokenize(json_file_path)\n",
    "\n",
    "good_word = [\"ships\", \"heart\"]\n",
    "bad_word = [\"weekend\", \"turn\"]\n",
    "calculate_tf_in_json(good_word, bad_word, json_file_path, document_list)"
   ]
  }
 ],
 "metadata": {
  "kernelspec": {
   "display_name": "Python 3",
   "language": "python",
   "name": "python3"
  },
  "language_info": {
   "codemirror_mode": {
    "name": "ipython",
    "version": 3
   },
   "file_extension": ".py",
   "mimetype": "text/x-python",
   "name": "python",
   "nbconvert_exporter": "python",
   "pygments_lexer": "ipython3",
   "version": "3.10.6"
  },
  "orig_nbformat": 4
 },
 "nbformat": 4,
 "nbformat_minor": 2
}

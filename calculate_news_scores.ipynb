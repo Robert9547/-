{
 "cells": [
  {
   "cell_type": "code",
   "execution_count": 20,
   "metadata": {},
   "outputs": [],
   "source": [
    "# 說明:\n",
    "# 本ipynb利用情緒詞字典幫新聞文章算出正負面的分數"
   ]
  },
  {
   "cell_type": "code",
   "execution_count": 21,
   "metadata": {},
   "outputs": [],
   "source": [
    "import json\n",
    "import pandas as pd\n",
    "import import_ipynb\n",
    "from collections import defaultdict\n",
    "from chinese_tokenizer import chineseWordTokenizer\n",
    "from emotionalDictionaryExtractor import get_positive_emotional_tokens\n",
    "from emotionalDictionaryExtractor import get_negative_emotional_tokens"
   ]
  },
  {
   "cell_type": "code",
   "execution_count": 22,
   "metadata": {},
   "outputs": [],
   "source": [
    "#全域變數\n",
    "good_word = get_positive_emotional_tokens() #所有正向情緒詞彙\n",
    "bad_word = get_negative_emotional_tokens()  #所有負向情緒詞彙"
   ]
  },
  {
   "cell_type": "code",
   "execution_count": 23,
   "metadata": {},
   "outputs": [],
   "source": [
    "# 載入新聞JSON檔的資料\n",
    "with open('newsDatas.json') as f:\n",
    "    all_news = json.load(f)"
   ]
  },
  {
   "cell_type": "code",
   "execution_count": 24,
   "metadata": {},
   "outputs": [],
   "source": [
    "#從已載入的JSON資料中找到某主題的所有新聞的媒體、標題，內文，並把標題與內文切成tokens\n",
    "def get_allRelatedNewsOnSpecificTopic(topicNum:int):\n",
    "    try:\n",
    "        allRelatedNewsOnSpecificTopic = []\n",
    "        for topic in all_news:\n",
    "            if topic['topicNum'] == topicNum: # 找到主題\n",
    "                for news in topic['allRelatedNews']:\n",
    "                    title_tokens = chineseWordTokenizer(news['title'])\n",
    "                    text_tokens = chineseWordTokenizer(news['text'])\n",
    "                    tempNews = {'docID':news['docID'],'media':news['media'],'title':news['title'],'title_tokens':title_tokens,'text_tokens':text_tokens}\n",
    "                    allRelatedNewsOnSpecificTopic.append(tempNews)\n",
    "                break              \n",
    "        return allRelatedNewsOnSpecificTopic\n",
    "    except Exception as e:\n",
    "        print(\"讀取某主題的所有新聞時發生錯誤: {}\".format(e))\n",
    "        return None\n"
   ]
  },
  {
   "cell_type": "code",
   "execution_count": 25,
   "metadata": {},
   "outputs": [],
   "source": [
    "#計算某詞的tf\n",
    "def calculate_tf(word_list, document):\n",
    "    count = sum([1 for w in document if w in word_list])\n",
    "    return count\n",
    "\n",
    "#計算某主題中所有新聞文章的分數\n",
    "def calculate_tf_in_news_on_specific_topic(topicNum):\n",
    "    tf_dict = defaultdict(dict)\n",
    "    scores = []\n",
    "    document_list_title = []\n",
    "    document_list_text = []\n",
    "    allRelatedNews = get_allRelatedNewsOnSpecificTopic(topicNum)\n",
    "    \n",
    "    for news in allRelatedNews:\n",
    "        document_list_title.append(news['title_tokens'])\n",
    "        document_list_text.append(news['text_tokens'])\n",
    "\n",
    "    for i_title, document_title in enumerate(document_list_title):\n",
    "        tf_dict[i_title][\"title\"] = allRelatedNews[i_title][\"title\"]\n",
    "        tf_dict[i_title][\"docID\"] = allRelatedNews[i_title][\"docID\"]\n",
    "        tf_dict[i_title][\"media\"] = allRelatedNews[i_title][\"media\"]\n",
    "        #標題權重較重，所以分數乘2\n",
    "        good_score_title = 2*calculate_tf(good_word, document_title)\n",
    "        bad_score_title = 2*calculate_tf(bad_word, document_title)\n",
    "        score_title = good_score_title - bad_score_title\n",
    "        \n",
    "        document_text = document_list_text[i_title]\n",
    "        good_score_text = calculate_tf(good_word, document_text)\n",
    "        bad_score_text = calculate_tf(bad_word, document_text)\n",
    "        score_text = good_score_text - bad_score_text\n",
    "\n",
    "        total_score = score_title + score_text\n",
    "        tf_dict[i_title][\"score\"] = total_score\n",
    "        scores.append(total_score)\n",
    "\n",
    "    inv_list = \"\"\n",
    "    highest_score_list = \"\"\n",
    "    lowest_score_list = \"\"\n",
    "    \n",
    "    #將總分數不為0的文章加入inverted list(0分代表可能無立場)\n",
    "    for i, score in enumerate(scores):\n",
    "        doc_title = tf_dict[i][\"title\"]\n",
    "        doc_name = tf_dict[i][\"docID\"]\n",
    "        doc_media = tf_dict[i][\"media\"]\n",
    "        if score != 0:\n",
    "            inv_list += f\"({doc_name},{score})\"\n",
    "            if score == max(scores):\n",
    "                highest_score_list += f\"新聞標題:{doc_title}, 媒體:{doc_media}, 文章代號:{doc_name}, 分數:{score}\\n\"\n",
    "            if score == min(scores):\n",
    "                lowest_score_list += f\"新聞標題:{doc_title}, 媒體:{doc_media}, 文章代號:{doc_name}, 分數:{score}\\n\"\n",
    "    print(f\"inv_list={inv_list}\")\n",
    "    print(f\"最高分 :\\n {highest_score_list}\")\n",
    "    print(f\"最低分 :\\n {lowest_score_list}\")\n",
    "    \n"
   ]
  },
  {
   "cell_type": "code",
   "execution_count": null,
   "metadata": {},
   "outputs": [],
   "source": [
    "#測試 \n",
    "# 計算某主題的所有文章分數\n",
    "\n",
    "for topic in all_news:\n",
    "    calculate_tf_in_news_on_specific_topic(topic['topicNum'])\n",
    "#print(get_allRelatedNewsOnSpecificTopic(4))"
   ]
  }
 ],
 "metadata": {
  "kernelspec": {
   "display_name": "Python 3",
   "language": "python",
   "name": "python3"
  },
  "language_info": {
   "codemirror_mode": {
    "name": "ipython",
    "version": 3
   },
   "file_extension": ".py",
   "mimetype": "text/x-python",
   "name": "python",
   "nbconvert_exporter": "python",
   "pygments_lexer": "ipython3",
   "version": "3.10.6"
  },
  "orig_nbformat": 4
 },
 "nbformat": 4,
 "nbformat_minor": 2
}

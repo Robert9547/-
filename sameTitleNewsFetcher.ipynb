{
 "cells": [
  {
   "cell_type": "code",
   "execution_count": 24,
   "metadata": {},
   "outputs": [],
   "source": [
    "#說明區\n",
    "#本ipynb用於取得與某篇新聞同主題的所有新聞"
   ]
  },
  {
   "cell_type": "code",
   "execution_count": 25,
   "metadata": {},
   "outputs": [],
   "source": [
    "import json\n",
    "import string\n",
    "import pandas as pd\n",
    "import import_ipynb\n",
    "from collections import defaultdict\n",
    "import requests\n",
    "from bs4 import BeautifulSoup\n",
    "import re\n",
    "from chinese_tokenizer import chineseWordTokenizer\n",
    "from emotionalDictionaryExtractor import get_positive_emotional_tokens\n",
    "from emotionalDictionaryExtractor import get_negative_emotional_tokens\n",
    "from calculate_news_scores import get_allRelatedNewsOnSpecificTopic"
   ]
  },
  {
   "cell_type": "code",
   "execution_count": 26,
   "metadata": {},
   "outputs": [],
   "source": [
    "#全域變數\n",
    "good_word = get_positive_emotional_tokens() #所有正向情緒詞彙\n",
    "bad_word = get_negative_emotional_tokens()  #所有負向情緒詞彙"
   ]
  },
  {
   "cell_type": "code",
   "execution_count": 27,
   "metadata": {},
   "outputs": [],
   "source": [
    "# 載入新聞JSON檔的資料\n",
    "with open('newsDatas.json') as f:\n",
    "    all_news = json.load(f)"
   ]
  },
  {
   "cell_type": "code",
   "execution_count": 28,
   "metadata": {},
   "outputs": [],
   "source": [
    "def get_all_same_topic_news(title:str):\n",
    "    try:\n",
    "        for topic in all_news:\n",
    "            for news in topic['allRelatedNews']:\n",
    "                if news['title'] == title:\n",
    "                    return topic['topicNum']\n",
    "    except Exception as e:\n",
    "        print(\"尋找同主題的新聞標題時發生錯誤: {}\".format(e))\n",
    "        return 0"
   ]
  },
  {
   "cell_type": "code",
   "execution_count": 29,
   "metadata": {},
   "outputs": [],
   "source": [
    "#計算某詞的tf\n",
    "def calculate_tf(word_list, document):\n",
    "    count = sum([1 for w in document if w in word_list])\n",
    "    return count\n",
    "\n",
    "#計算某主題中所有新聞文章的分數\n",
    "def calculate_tf_in_news_on_specific_topic(title,topicNum):\n",
    "    tf_dict = defaultdict(dict)\n",
    "    scores = []\n",
    "    document_list_title = []\n",
    "    document_list_text = []\n",
    "    allRelatedNews = get_allRelatedNewsOnSpecificTopic(topicNum)\n",
    "    \n",
    "    for news in allRelatedNews:\n",
    "        document_list_title.append(news['title_tokens'])\n",
    "        document_list_text.append(news['text_tokens'])\n",
    "\n",
    "    for i_title, document_title in enumerate(document_list_title):\n",
    "        tf_dict[i_title][\"title\"] = allRelatedNews[i_title][\"title\"]\n",
    "        tf_dict[i_title][\"docID\"] = allRelatedNews[i_title][\"docID\"]\n",
    "        tf_dict[i_title][\"media\"] = allRelatedNews[i_title][\"media\"]\n",
    "        #標題權重較重，所以分數乘2\n",
    "        score_title = 2*calculate_tf(good_word, document_title) - 2*calculate_tf(bad_word, document_title)\n",
    "        \n",
    "        document_text = document_list_text[i_title]\n",
    "        \n",
    "        score_text = calculate_tf(good_word, document_text) - calculate_tf(bad_word, document_text)\n",
    "\n",
    "        total_score = score_title + score_text\n",
    "        tf_dict[i_title][\"score\"] = total_score\n",
    "        scores.append(total_score)\n",
    "    \n",
    "    \n",
    "    pos_news = []\n",
    "    neg_news = []\n",
    "\n",
    "    for i, score in enumerate(scores):\n",
    "        if scores[i] < 0:\n",
    "            neg_news.append(tf_dict[i][\"title\"]) \n",
    "        else:\n",
    "            pos_news.append(tf_dict[i][\"title\"])\n",
    "    \n",
    "    p_n = 0 \n",
    "    for i, score in enumerate(scores):\n",
    "        if tf_dict[i][\"title\"] == title :\n",
    "            this_news_score = scores[i]\n",
    "            if this_news_score >= 0:\n",
    "                p_n = 1\n",
    "            elif this_news_score < 0:\n",
    "                p_n = -1\n",
    "    \n",
    "    txt_file = open(\"相似(異)立場文章.txt\", \"a\")\n",
    "    txt_file.write(f\"與「{title}」立場相似的新聞:\\n\")\n",
    "    txt_file.write(f\"=============================\\n\")\n",
    "    if p_n ==1 :\n",
    "        for i in pos_news :\n",
    "            txt_file.write(f\"{i}\\n\")\n",
    "    elif p_n == -1:\n",
    "        for i in neg_news :\n",
    "            txt_file.write(f\"{i}\\n\")\n",
    "    txt_file.write(f\"-----------------------------\\n\")\n",
    "    txt_file.write(f\"與 「{title}」立場相異的新聞:\\n\")\n",
    "    txt_file.write(f\"=============================\\n\")\n",
    "    if p_n ==1 :\n",
    "        for i in neg_news :\n",
    "            txt_file.write(f\"{i}\\n\")\n",
    "    elif p_n == -1 :\n",
    "        for i in pos_news :\n",
    "            txt_file.write(f\"{i}\\n\")\n",
    "    txt_file.write(f\"****************************\\n\")\n",
    "    txt_file.close() \n",
    "    \n",
    "    \n"
   ]
  },
  {
   "cell_type": "code",
   "execution_count": 30,
   "metadata": {},
   "outputs": [],
   "source": [
    "def get_all_news(title):\n",
    "    calculate_tf_in_news_on_specific_topic(title,get_all_same_topic_news(title))\n",
    "    "
   ]
  },
  {
   "cell_type": "code",
   "execution_count": 32,
   "metadata": {},
   "outputs": [],
   "source": [
    "get_all_news(\"民眾黨募3500萬秒開缺！網見「1職缺」狠吐槽：沒人才了？\")\n",
    "get_all_news(\"侯友宜最強副手出爐？郭正亮點名1 人斷言：可接年輕人地氣\")\n"
   ]
  }
 ],
 "metadata": {
  "kernelspec": {
   "display_name": "Python 3",
   "language": "python",
   "name": "python3"
  },
  "language_info": {
   "codemirror_mode": {
    "name": "ipython",
    "version": 3
   },
   "file_extension": ".py",
   "mimetype": "text/x-python",
   "name": "python",
   "nbconvert_exporter": "python",
   "pygments_lexer": "ipython3",
   "version": "3.10.6"
  },
  "orig_nbformat": 4
 },
 "nbformat": 4,
 "nbformat_minor": 2
}

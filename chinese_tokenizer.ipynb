{
 "cells": [
  {
   "cell_type": "code",
   "execution_count": 1,
   "metadata": {},
   "outputs": [],
   "source": [
    "# 說明:\n",
    "# 本ipynb利用中研院斷詞系統套件執行中文斷詞"
   ]
  },
  {
   "cell_type": "code",
   "execution_count": 2,
   "metadata": {},
   "outputs": [],
   "source": [
    "from ckiptagger import data_utils, construct_dictionary, WS\n",
    "import string"
   ]
  },
  {
   "cell_type": "code",
   "execution_count": 3,
   "metadata": {},
   "outputs": [],
   "source": [
    "# 下載斷詞系統的模型\n",
    "# 在本機只需進行一次，在後面程式時給定模型所在的路徑即可\n",
    "#data_utils.download_data_gdown(\"./ckiptagger_model\") # 將模型下載到專案的資料夾內"
   ]
  },
  {
   "cell_type": "code",
   "execution_count": null,
   "metadata": {},
   "outputs": [],
   "source": [
    "# 載入斷詞模型\n",
    "ws = WS(\"./ckiptagger_model/data\")"
   ]
  },
  {
   "cell_type": "code",
   "execution_count": 5,
   "metadata": {},
   "outputs": [],
   "source": [
    "#對新聞文章的內文進行中文斷詞\n",
    "def chineseWordTokenizer(newsText:str) -> list:\n",
    "    #切token\n",
    "    sentence_list = [newsText]\n",
    "    tokens = ws(sentence_list)[0]\n",
    "    \n",
    "    #去除中文標點符號\n",
    "    chinesePunctuations = ['＂', '＃', '＄', '％', '＆', '＇', '（', '）', '＊', '＋', '，', '－', '／', '：', '；', '＜', '＝', '＞', '＠', '［', '＼', '］', '＾', '＿', '｀', '｛', '｜', '｝', '～', '｟', '｠', '｢', '｣', '､', '\\u3000', '、', '〃', '〈', '〉', '《', '》', '「', '」', '『', '』', '【', '】', '〔', '〕', '〖', '〗', '〘', '〙', '〚', '〛', '〜', '〝', '〞', '〟', '〰', '〾', '〿', '–', '—', '‘', '’', '‛', '“', '”', '„', '‟', '…', '‧', '﹏', '﹑', '﹔', '·', '！', '？', '｡', '。']\n",
    "    tokens = [token for token in tokens if token not in chinesePunctuations]\n",
    "    \n",
    "    #去除英文標點符號\n",
    "    tokens = [token for token in tokens if token not in string.punctuation]\n",
    "    \n",
    "    #去除換行符號\n",
    "    others = '\\n'\n",
    "    tokens = [token for token in tokens if token not in others]\n",
    "    \n",
    "    return tokens"
   ]
  },
  {
   "cell_type": "code",
   "execution_count": 6,
   "metadata": {},
   "outputs": [],
   "source": [
    "# #測試程式\n",
    "# #把要斷的句子放在 list 裡\n",
    "# sentence_list = [\n",
    "#     \"新北市長侯友宜19日出發前往新加坡進行市政交流，出發前更喊話要「讓中華民國再次起飛」。不過，旅途中新北市土城區發生當鋪槍擊案，當下侯友宜也緊急拍攝影片打手機要求嚴格掃蕩，但遭批作秀，爭議不斷。今（22日）晚間侯友宜則從新加坡歸國，且於機場發表簡短談話，全程笑容滿面，稱要避免衝突引發戰爭，並「借鏡星洲，榮耀台灣」。\\n\\n侯友宜今從新加坡歸國，一落地便在機場發表簡短談話，他指出，台灣和新加坡在地緣政治、戰略要衝都處於相似地位，在多變詭譎的國際情勢之下，兩國皆可積極扮演好各自角色，對內發揮實力、掌握優勢並強化應對能力，對外則深化國際社會連結，創造國家機會和空間力量。\\n\\n侯友宜認為，不但要盡最大努力，避免衝突引發戰爭風險，更要維護區域和平穩定的責任，並「借鏡星洲，榮耀台灣」，以新加坡的靈活、彈性、務實的智慧，努力區域的和平，讓世界共好。\\n\\n侯友宜也稱，台灣在國際現實底下，應保有自己的優勢和信心，讓國際社會正視中華民國存在，「我們有責任，守護下一代，讓永續發展的台灣，繼續走下去，更要盡最大努力，讓台海穩定、區域和平，創造永續繁榮的台灣。」\\n\\n最後，侯友宜則喊話，這次新加坡和台灣都面臨一系列挑戰，而他相信台灣和新加坡都可以「創造世界更好」，語畢侯友宜便緩步離開機場。本次歸國，侯友宜全程笑容滿面，看起來心情極好，一旁的幕僚也是持續掛著微笑，而侯友宜更不時揮手向民眾致意。\\n\\n更多鏡週刊報導\\n\\n綠營批侯友宜「打手機演戲」荒廢市政 曾銘宗反嗆：只想選舉\\n\\n新北槍擊案「絕對傷到侯友宜」 黃暐瀚分析侯選總統路難題\\n\\n「黨員1票、民調3％」之差險勝！徐巧芯樂喊創造奇蹟 費鴻泰13字簡短恭喜\\n\\n更多相關新聞\\n\\n黃循財是否關心參選總統 侯友宜：老朋友關心很多事\\n\\n會見台駐新加坡代表 侯友宜讚星國人才培育值得學習\\n\\n連2天上午神隱！記者遭星國警關切 侯友宜：理當尊重新加坡安排\\n\\n侯友宜拜會新加坡經濟發展局 關注通膨、人民所得議題\\n\\n侯友宜為何首訪新加坡？學者驚爆2024反攻綠營「5關鍵」\"\n",
    "# ]\n",
    "# word_sentence_list = ws(sentence_list)\n",
    "# word_sentence_list"
   ]
  }
 ],
 "metadata": {
  "kernelspec": {
   "display_name": "Python 3",
   "language": "python",
   "name": "python3"
  },
  "language_info": {
   "codemirror_mode": {
    "name": "ipython",
    "version": 3
   },
   "file_extension": ".py",
   "mimetype": "text/x-python",
   "name": "python",
   "nbconvert_exporter": "python",
   "pygments_lexer": "ipython3",
   "version": "3.10.6"
  },
  "orig_nbformat": 4
 },
 "nbformat": 4,
 "nbformat_minor": 2
}

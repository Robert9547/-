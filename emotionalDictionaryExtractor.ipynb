{
 "cells": [
  {
   "cell_type": "code",
   "execution_count": 52,
   "metadata": {},
   "outputs": [],
   "source": [
    "# 說明:\n",
    "# 1.提取情緒詞彙字典txt檔內的內容並轉成list輸出\n",
    "# 2.call以下function即可取得正(反)向情緒詞彙"
   ]
  },
  {
   "cell_type": "code",
   "execution_count": 53,
   "metadata": {},
   "outputs": [],
   "source": [
    "#取得情緒詞彙\n",
    "def get_emotional_tokens(fileName):\n",
    "    tokens = []\n",
    "    with open(fileName, 'r',encoding='utf-16') as f:\n",
    "        lines = f.readlines()\n",
    "        for line in lines:\n",
    "            tokens.append(line.replace('\\n', ''))\n",
    "    return tokens\n"
   ]
  },
  {
   "cell_type": "code",
   "execution_count": 54,
   "metadata": {},
   "outputs": [],
   "source": [
    "#取得正向情緒詞彙\n",
    "def get_positive_emotional_tokens():\n",
    "    return get_emotional_tokens('NTUSD_positive_unicode.txt')"
   ]
  },
  {
   "cell_type": "code",
   "execution_count": 55,
   "metadata": {},
   "outputs": [],
   "source": [
    "#取得反向情緒詞彙\n",
    "def get_negative_emotional_tokens():\n",
    "    return get_emotional_tokens('NTUSD_negative_unicode.txt')"
   ]
  },
  {
   "cell_type": "code",
   "execution_count": 56,
   "metadata": {},
   "outputs": [
    {
     "name": "stdout",
     "output_type": "stream",
     "text": [
      "2812\n",
      "8276\n"
     ]
    }
   ],
   "source": [
    "#測試程式\n",
    "# print(len(get_positive_emotional_tokens()))\n",
    "# print(len(get_negative_emotional_tokens()))"
   ]
  }
 ],
 "metadata": {
  "kernelspec": {
   "display_name": "Python 3",
   "language": "python",
   "name": "python3"
  },
  "language_info": {
   "codemirror_mode": {
    "name": "ipython",
    "version": 3
   },
   "file_extension": ".py",
   "mimetype": "text/x-python",
   "name": "python",
   "nbconvert_exporter": "python",
   "pygments_lexer": "ipython3",
   "version": "3.10.6"
  },
  "orig_nbformat": 4
 },
 "nbformat": 4,
 "nbformat_minor": 2
}

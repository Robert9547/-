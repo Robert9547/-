{
 "cells": [
  {
   "cell_type": "code",
   "execution_count": 32,
   "metadata": {},
   "outputs": [],
   "source": [
    "import requests\n",
    "from bs4 import BeautifulSoup\n",
    "import import_ipynb\n",
    "from mainTextProcessor import writeNewsDataToJson\n",
    "\n",
    "web = requests.get(\"https://news.google.com/topics/CAAqJQgKIh9DQkFTRVFvSUwyMHZNRFZ4ZERBU0JYcG9MVlJYS0FBUAE?hl=zh-TW&gl=TW&ceid=TW%3Azh-Hant\")\n",
    "content = BeautifulSoup(web.text, \"html.parser\")\n",
    "allTitle = content.select('.Ylktk')\n",
    "\n",
    "with open(\"testoutput.txt\", \"w\", encoding=\"utf-8\") as f:\n",
    "    countTitle = 1\n",
    "    for allTitles in allTitle:\n",
    "        href0 = allTitles.a['href']\n",
    "        f.write(f\"**************主題[{countTitle}]網址**************\\n\")\n",
    "        f.write(f\"https://news.google.com/{href0}\\n\")\n",
    "        countTitle += 1\n",
    "        response = requests.get(f\"https://news.google.com/{href0}\")\n",
    "        soup = BeautifulSoup(response.content, \"html.parser\")\n",
    "        title_list = []\n",
    "        href_list = []\n",
    "        media_list = []\n",
    "\n",
    "        for h4_tag in soup.find_all(\"h4\"):\n",
    "            href = h4_tag.find(\"a\").get(\"href\")\n",
    "            text = h4_tag.a.text\n",
    "            title_list.append(f\"======[{len(title_list)+1}]=========\\n{text}\")\n",
    "            href_list.append(href)\n",
    "\n",
    "        for target_div in soup.find_all('div', {'class': 'wsLqz RD0gLb'}):\n",
    "            media = target_div.find(\"a\").text\n",
    "            media_list.append(media)\n",
    "        \n",
    "        f.write(\"======內文網址=========\\n\")\n",
    "        for title, href, media in zip(title_list, href_list, media_list):\n",
    "            f.write(f\"{title}, 媒體：{media}\\n\")\n",
    "            f.write(f\"內文網址：https://news.google.com/{href}\\n\")\n",
    "            url = href.replace('.','https://news.google.com',1)\n",
    "            writeNewsDataToJson(newsMedia = media,newsTitle = title.split('=\\n')[1],newsUrl = url)"
   ]
  }
 ],
 "metadata": {
  "kernelspec": {
   "display_name": "Python 3",
   "language": "python",
   "name": "python3"
  },
  "language_info": {
   "codemirror_mode": {
    "name": "ipython",
    "version": 3
   },
   "file_extension": ".py",
   "mimetype": "text/x-python",
   "name": "python",
   "nbconvert_exporter": "python",
   "pygments_lexer": "ipython3",
   "version": "3.10.6"
  },
  "orig_nbformat": 4
 },
 "nbformat": 4,
 "nbformat_minor": 2
}

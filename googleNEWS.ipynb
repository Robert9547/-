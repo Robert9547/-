{
 "cells": [
  {
   "cell_type": "code",
   "execution_count": 4,
   "metadata": {},
   "outputs": [],
   "source": [
    "import requests \n",
    "from bs4 import BeautifulSoup\n",
    "\n",
    "web = requests.get(\"https://news.google.com/topics/CAAqJQgKIh9DQkFTRVFvSUwyMHZNRFZ4ZERBU0JYcG9MVlJYS0FBUAE?hl=zh-TW&gl=TW&ceid=TW%3Azh-Hant\")\n",
    "content = BeautifulSoup(web.text, \"html.parser\")\n",
    "allTitle = content.select('.Ylktk')\n",
    "\n",
    "with open(\"output.txt\", \"w\", encoding=\"utf-8\") as f:\n",
    "    countTitle = 1\n",
    "    for allTitles in allTitle:\n",
    "        href0 = allTitles.a['href']\n",
    "        f.write(f\"======主題[{countTitle}]網址=========\\n\")\n",
    "        f.write(f\"https://news.google.com/{href0}\\n\")\n",
    "        countTitle += 1\n",
    "        web = requests.get(f\"https://news.google.com/{href0}\")\n",
    "\n",
    "        f.write(\"======內文網址=========\\n\")\n",
    "        response = requests.get(f\"https://news.google.com/{href0}\")\n",
    "        soup = BeautifulSoup(response.content, \"html.parser\")\n",
    "        count = 1\n",
    "        for h4_tag in soup.find_all(\"h4\"):\n",
    "            href = h4_tag.find(\"a\").get(\"href\")\n",
    "            text = h4_tag.a.text\n",
    "            f.write(f\"======[{count}]=========\\n\")\n",
    "            f.write(f\"內文 {count} _ {text}: https://news.google.com/{href}\\n\")\n",
    "            count += 1"
   ]
  }
 ],
 "metadata": {
  "kernelspec": {
   "display_name": "Python 3",
   "language": "python",
   "name": "python3"
  },
  "language_info": {
   "codemirror_mode": {
    "name": "ipython",
    "version": 3
   },
   "file_extension": ".py",
   "mimetype": "text/x-python",
   "name": "python",
   "nbconvert_exporter": "python",
   "pygments_lexer": "ipython3",
   "version": "3.10.6"
  },
  "orig_nbformat": 4
 },
 "nbformat": 4,
 "nbformat_minor": 2
}
